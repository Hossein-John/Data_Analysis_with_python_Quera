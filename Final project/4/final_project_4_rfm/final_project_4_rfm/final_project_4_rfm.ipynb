{
 "cells": [
  {
   "cell_type": "markdown",
   "id": "dbd55073",
   "metadata": {},
   "source": [
    "<h1 align=center style=\"line-height:200%;font-family:vazir;color:#0099cc\">\n",
    "<font face=\"vazirmatn\" color=\"#0099cc\">\n",
    "ارزش‌گذاری مشتریان\n",
    "</font>\n",
    "</h1>"
   ]
  },
  {
   "attachments": {},
   "cell_type": "markdown",
   "id": "2780ee4b",
   "metadata": {
    "id": "2780ee4b"
   },
   "source": [
    "<p dir=rtl style=\"direction: rtl;text-align: right;line-height:200%;font-family:vazir;font-size:medium\">\n",
    "<font>\n",
    "    در ادامه‌ی امور مربوط به بازاریابی، در این گام باید براساس ارزش مشتریان برای شرکت اقدام به گروه‌بندی آن‌ها کنید.\n",
    "    برای این کار از یک روش معروف حوزه‌ی تحلیل رفتار مشتری با نام <a href=\"https://en.wikipedia.org/wiki/RFM_(market_research)\"><i>RFM</i></a> استفاده خواهید کرد.\n",
    "    در این روش برای هر مشتری سه معیار محاسبه می‌شود:\n",
    "</font>\n",
    "</p>\n",
    "\n",
    "\n",
    "<div dir=rtl style=\"direction: rtl;text-align: right;line-height:200%;font-family:vazir;font-size:medium\">\n",
    "<font>\n",
    "    <ol>\n",
    "        <li>\n",
    "            <b>معیار <i>Recency</i> (ماندگاری):</b> تعداد روزی که از آخرین خرید مشتری می‌گذرد.\n",
    "        </li>\n",
    "        <li>\n",
    "            <b>معیار <i>Frequency</i> (فرکانس):</b> تعداد دفعاتی که مشتری از ما خرید کرده است.\n",
    "        </li>\n",
    "        <li>\n",
    "            <b>معیار <i>Monetary Value</i> (ارزش مالی):</b> مجموع درآمدی که شرکت از یک مشتری داشته است.\n",
    "        </li>\n",
    "    </ol>\n",
    "</font>\n",
    "</div>\n",
    "\n",
    "\n",
    "<p dir=rtl style=\"direction: rtl;text-align: justify;line-height:200%;font-family:vazir;font-size:medium\">\n",
    "<font> \n",
    "این معیارها، نشان‌دهنده‌ی شاخص‌های مهمی در رفتار مشتریان هستند. به‌عنوان مثال، هرچه خرید جدیدتری توسط یک مشتری صورت گرفته باشد، احتمال آن‌که وی مجدد از ما خرید کند، افزایش می‌یابد. هرچه مشتری تعداد دفعات بیشتری خرید کند، به این معنی‌ست که مشتری رضایت بیشتری دارد و همچنین میزان درآمدی که یک مشتری برای شرکت تولید می‌کند، می‌تواند او را از سایر خریداران متمایز کند.\n",
    "</font>\n",
    "</p>\n"
   ]
  },
  {
   "attachments": {},
   "cell_type": "markdown",
   "id": "ff28bfde",
   "metadata": {},
   "source": [
    "   \n",
    "<h2 align=right style=\"line-height:200%;font-family:vazir;color:#0099cc\">\n",
    "<font face=\"vazirmatn\" color=\"#0099cc\">\n",
    "کتابخانه‌ها\n",
    "</font>\n",
    "</h2>\n",
    "\n",
    "<p dir=rtl style=\"direction: rtl;text-align: right;line-height:200%;font-family:vazir;font-size:medium\">\n",
    "<font face=\"vazirmatn\" size=3>\n",
    "       ابتدا کتابخانه‌های مورد نیاز خود را فرا بخوانید.\n",
    "</font>\n",
    "</p>"
   ]
  },
  {
   "cell_type": "code",
   "execution_count": null,
   "id": "4a1c31c4",
   "metadata": {},
   "outputs": [],
   "source": [
    "# import libraries"
   ]
  },
  {
   "attachments": {},
   "cell_type": "markdown",
   "id": "76c16791",
   "metadata": {},
   "source": [
    "<h2 align=right style=\"line-height:200%;font-family:vazir;color:#0099cc\">\n",
    "<font face=\"vazirmatn\" color=\"#0099cc\">\n",
    "    مجموعه‌داده\n",
    "</font>\n",
    "</h2>\n",
    "\n",
    "<p dir=rtl style=\"direction: rtl;text-align: justify;line-height:200%;font-family:vazir;font-size:medium\">\n",
    "<font face=\"vazirmatn\" size=3>\n",
    "    حال داده‌های پیش‌پردازش‌شده را که در گام اول پروژه در فایل <code>preprocessed_sales.csv</code> ذخیره کردید به شکل یک دیتافریم بخوانید.\n",
    "</font>\n",
    "</p>"
   ]
  },
  {
   "cell_type": "code",
   "execution_count": null,
   "id": "b0ad0cab",
   "metadata": {},
   "outputs": [],
   "source": [
    "df = None # To-Do\n",
    "df.head()"
   ]
  },
  {
   "attachments": {},
   "cell_type": "markdown",
   "id": "8d09f90e",
   "metadata": {},
   "source": [
    "<h2 dir=rtl align=right style=\"line-height:200%;font-family:vazir;color:#0099cc\">\n",
    "<font face=\"vazirmatn\" color=\"#0099cc\">\n",
    "    معیار Recency\n",
    "</font>\n",
    "</h2>\n",
    "\n",
    "<p dir=rtl style=\"direction: rtl;text-align: justify;line-height:200%;font-family:vazir;font-size:medium\">\n",
    "<font face=\"vazirmatn\" size=3>\n",
    "    ابتدا نیاز است برای هر مشتری (<code>CustomerId</code>) معیار <i>Recency</i> را محاسبه کنید.\n",
    "    برای این معیار باید تعداد روز گذشته از آخرین خرید کاربر نسبت به یک روز بعد از آخرین تاریخ موجود در مجموعه‌داده (ستون <code>InvoiceDate</code>) را محاسبه کنید. زیرا که فرض را بر آن گرفته‌ایم که شما در چنین روزی در حال تحلیل هستید.\n",
    "</font>\n",
    "</p>\n",
    "\n",
    "<p dir=rtl style=\"direction: rtl;text-align: justify;line-height:200%;font-family:vazir;font-size:medium\">\n",
    "<font face=\"vazirmatn\" size=3>\n",
    "    بنابراین ابتدا آخرین تاریخ موجود در مجموعه‌داده را پیدا کرده، و پس از جمع روز آن با <code>1</code>، حاصل را در متغیر <code>last_day</code> ذخیره کنید.\n",
    "    مقدار این متغیر باید از نوع <code>Timestamp</code> باشد. به‌عنوان مثال اگر آخرین تاریخ معادل <code>Timestamp('2010-10-10 10:10:00')</code> بود، آن‌گاه حاصل شما باید به شکل <code>Timestamp('2010-10-11 10:10:00')</code> باشد.\n",
    "</font>\n",
    "</p>"
   ]
  },
  {
   "cell_type": "code",
   "execution_count": null,
   "id": "57d58569",
   "metadata": {},
   "outputs": [],
   "source": [
    "last_day = None # To-Do\n",
    "last_day"
   ]
  },
  {
   "attachments": {},
   "cell_type": "markdown",
   "id": "23859d27",
   "metadata": {},
   "source": [
    "<p dir=rtl style=\"direction: rtl;text-align: justify;line-height:200%;font-family:vazir;font-size:medium\">\n",
    "<font face=\"vazirmatn\" size=3>\n",
    "    اکنون می‌توانید به ازای هر مشتری، تاریخ آخرین خرید وی را پیدا کرده و تعداد روز گذشته از <code>last_day</code> را محاسبه کنید.\n",
    "    <br>\n",
    "    حاصل را در یک دیتافریم به نام <code>df_customer_segments</code> و با دو ستون <code>CustomerId</code> (شناسه‌ی مشتری) و <code>Recency</code> (مقدار ماندگاری محاسبه‌شده) ذخیره کنید. همچنین دقت کنید، دیتافریم <code>df_customer_segments</code> باید بر اساس ستون <code>CustomerId</code> (شناسه‌ی مشتری) مرتب‌سازی شده باشد.\n",
    "</font>\n",
    "</p>"
   ]
  },
  {
   "cell_type": "code",
   "execution_count": null,
   "id": "4b0ae3db",
   "metadata": {},
   "outputs": [],
   "source": [
    "df_customer_segments = None # To-Do\n",
    "df_customer_segments.head()"
   ]
  },
  {
   "attachments": {},
   "cell_type": "markdown",
   "id": "b6e057b4",
   "metadata": {},
   "source": [
    "<h2 dir=rtl align=right style=\"line-height:200%;font-family:vazir;color:#0099cc\">\n",
    "<font face=\"vazirmatn\" color=\"#0099cc\">\n",
    "    معیار Frequency\n",
    "</font>\n",
    "</h2>\n",
    "\n",
    "<p dir=rtl style=\"direction: rtl;text-align: justify;line-height:200%;font-family:vazir;font-size:medium\">\n",
    "<font face=\"vazirmatn\" size=3>\n",
    "    اکنون باید محاسبه کنید هرکدام از مشتری‌ها تاکنون چند خرید <b>یکتا</b> داشته‌اند. حاصل را در ستونی به نام <code>Frequency</code> به دیتافریم <code>df_customer_segments</code> اضافه کنید.\n",
    "</font>\n",
    "</p>"
   ]
  },
  {
   "cell_type": "code",
   "execution_count": null,
   "id": "db0601fe",
   "metadata": {},
   "outputs": [],
   "source": [
    "df_customer_segments['Frequency'] = None # To-Do\n",
    "df_customer_segments.head()"
   ]
  },
  {
   "attachments": {},
   "cell_type": "markdown",
   "id": "4705f30a",
   "metadata": {},
   "source": [
    "<h2 dir=rtl align=right style=\"line-height:200%;font-family:vazir;color:#0099cc\">\n",
    "<font face=\"vazirmatn\" color=\"#0099cc\">\n",
    "    معیار Monetary Value\n",
    "</font>\n",
    "</h2>\n",
    "\n",
    "<p dir=rtl style=\"direction: rtl;text-align: justify;line-height:200%;font-family:vazir;font-size:medium\">\n",
    "<font face=\"vazirmatn\" size=3>\n",
    "    برای این معیار باید محاسبه کنید مجموع خرید هر مشتری چقدر بوده است؟ توجه داشته باشید که برای محاسبه‌ی دریافتی هر ردیف باید قیمت واحد (<code>UnitPrice</code>) را در تعداد آن (<code>Quantity</code>) ضرب کنید و از حاصل آن برای محاسبه‌ی مجموع خرید هر مشتری استفاده کنید.\n",
    "     حاصل را در ستونی به نام <code>MonetaryValue</code> به دیتافریم <code>df_customer_segments</code> اضافه کنید.\n",
    "</font>\n",
    "</p>"
   ]
  },
  {
   "cell_type": "code",
   "execution_count": null,
   "id": "8c220c14",
   "metadata": {},
   "outputs": [],
   "source": [
    "df_customer_segments['MonetaryValue'] = None # To-Do\n",
    "df_customer_segments.head()"
   ]
  },
  {
   "attachments": {},
   "cell_type": "markdown",
   "id": "742e43a8",
   "metadata": {},
   "source": [
    "<h2 dir=rtl align=right style=\"line-height:200%;font-family:vazir;color:#0099cc\">\n",
    "<font face=\"vazirmatn\" color=\"#0099cc\">\n",
    "    گروه‌بندی هر معیار\n",
    "</font>\n",
    "</h2>\n",
    "\n",
    "<p dir=rtl style=\"direction: rtl;text-align: justify;line-height:200%;font-family:vazir;font-size:medium\">\n",
    "<font face=\"vazirmatn\" size=3>\n",
    "    اکنون نیاز است هرکدام از این سه معیار را براساس چارک اول،‌ دوم و سوم به شکل زیر به ۴ گروه مختلف تقسیم کنید\n",
    "    (برای یادآوری مفهوم چارک،\n",
    "    <a href=\"https://fa.wikipedia.org/wiki/%DA%86%D8%A7%D8%B1%DA%A9_(%D8%A2%D9%85%D8%A7%D8%B1)\">این مطلب</a>\n",
    "    را از ویکی‌پدیای فارسی بخوانید).\n",
    "</font>\n",
    "</p>\n",
    "\n",
    "<center>\n",
    "<div dir=rtl style=\"direction: rtl;line-height:200%;font-family:vazir;font-size:medium\">\n",
    "<font face=\"vazirmatn\" size=3>\n",
    "\n",
    "| <b>شماره گروه</b> | <b>شرط</b> |\n",
    "| :---: | :---: | \n",
    "| 1 | <code dir=ltr>value <= Q1</code> | \n",
    "| 2 | <code dir=ltr>Q1 < value <= Q2</code> | \n",
    "| 3 | <code dir=ltr>Q2 < value <= Q3</code> | \n",
    "| 4 | <code dir=ltr>Q3 < value</code> | \n",
    "\n",
    "</font>\n",
    "</div>\n",
    "</center>\n",
    "\n",
    "<p dir=rtl style=\"direction: rtl;text-align: justify;line-height:200%;font-family:vazir;font-size:medium\">\n",
    "<font face=\"vazirmatn\" size=3>\n",
    "    به ازای هر کدام از این سه معیار چنین کاری را انجام داده و نتایج را در سه ستون دیگر به نام‌های\n",
    "    <code>F_quartile</code>، <code>R_quartile</code> و <code>M_quartile</code>\n",
    "    ذخیره کنید.\n",
    "    توجه کنید که مقادیر این ستون‌ها معادل شماره گروه یعنی اعداد <code>1</code> تا <code>4</code> خواهد بود.\n",
    "</font>\n",
    "</p>"
   ]
  },
  {
   "cell_type": "code",
   "execution_count": null,
   "id": "6bdb7e45",
   "metadata": {},
   "outputs": [],
   "source": [
    "df_customer_segments['R_quartile'] = None # To-Do\n",
    "df_customer_segments['F_quartile'] = None # To-Do\n",
    "df_customer_segments['M_quartile'] = None # To-Do\n",
    "df_customer_segments.head()"
   ]
  },
  {
   "attachments": {},
   "cell_type": "markdown",
   "id": "d6d318ae",
   "metadata": {},
   "source": [
    "<h2 dir=rtl align=right style=\"line-height:200%;font-family:vazir;color:#0099cc\">\n",
    "<font face=\"vazirmatn\" color=\"#0099cc\">\n",
    "    معیار RFM\n",
    "</font>\n",
    "</h2>\n",
    "\n",
    "<p dir=rtl style=\"direction: rtl;text-align: justify;line-height:200%;font-family:vazir;font-size:medium\">\n",
    "<font face=\"vazirmatn\" size=3>\n",
    "    اکنون می‌توانید با کنار هم قرار دادن مقادیر ستون‌های\n",
    "    <code dir=ltr>[R_quartile, F_quartile, M_quartile]</code>\n",
    "    مقدار نهایی <i>RFM</i> را محاسبه کرده و در ستونی به همین نام ذخیره کنید.\n",
    "    به‌‌عنوان مثال اگر مقادیر این ستون‌ها برای یک مشتری برابر\n",
    "    <code dir=ltr>[1, 2, 3]</code> بود،\n",
    "    آن‌گاه مقدار نهایی <i>RFM</i> برابر با <code>123</code> است.\n",
    "</font>\n",
    "</p>"
   ]
  },
  {
   "cell_type": "code",
   "execution_count": null,
   "id": "79f47a4f",
   "metadata": {},
   "outputs": [],
   "source": [
    "df_customer_segments['RFM'] = None # To-Do\n",
    "df_customer_segments.head()"
   ]
  },
  {
   "attachments": {},
   "cell_type": "markdown",
   "id": "ba89d9fd",
   "metadata": {},
   "source": [
    "<h2 dir=rtl align=right style=\"line-height:200%;font-family:vazir;color:#0099cc\">\n",
    "<font face=\"vazirmatn\" color=\"#0099cc\">\n",
    "    گروه‌بندی مشتریان\n",
    "</font>\n",
    "</h2>\n",
    "\n",
    "<p dir=rtl style=\"direction: rtl;text-align: justify;line-height:200%;font-family:vazir;font-size:medium\">\n",
    "<font face=\"vazirmatn\" size=3>\n",
    "    حال باید براساس مقادیر ستون <code>RFM</code> و طبق جدول زیر به گروه‌بندی مشتریان بپردازید و نام گروه آن‌ها را در ستونی به نام <code>Segment</code> ذخیره کنید.\n",
    "    توجه داشته باشید که در این جدول، <code>X</code> به معنی هر مقداری است. به‌عنوان مثال <code>14X</code> به معنی <code>141</code>، <code>142</code>، <code>143</code> و <code>144</code> است.\n",
    "</font>\n",
    "</p>\n",
    "\n",
    "<center>\n",
    "<div dir=rtl style=\"direction: rtl;line-height:200%;font-family:vazir;font-size:medium\">\n",
    "<font face=\"vazirmatn\" size=3>\n",
    "\n",
    "| <b>Segment</b> | <b>RFM</b> |\n",
    "| :---: | :---: | \n",
    "| Best | <code dir=ltr>144</code> | \n",
    "| AlmostLost | <code dir=ltr>344</code> | \n",
    "| LostBigSpenders | <code dir=ltr>444</code> | \n",
    "| LostCheap | <code dir=ltr>441</code> | \n",
    "| Loyal | <code dir=ltr>X4X</code> | \n",
    "| BigSpenders | <code dir=ltr>XX4</code> | \n",
    "\n",
    "</font>\n",
    "</div>\n",
    "</center>\n",
    "\n",
    "<p dir=rtl style=\"direction: rtl;text-align: justify;line-height:200%;font-family:vazir;font-size:medium\">\n",
    "<font face=\"vazirmatn\" size=3>\n",
    "    <span style=\"color:purple\"><b>نکته ۱:</b></span>\n",
    "    در صورتی‌که یک مشتری در هیچ‌یک از گروه‌های جدول قرار نگرفت، گروه او را Normal اعلام کنید.\n",
    "    <br>\n",
    "    <span style=\"color:purple\"><b>نکته ۲:</b></span>\n",
    "    همچنین اگر یک RFM می‌تواند در دو گروه از جدول قرار بگیرد، اولویت با گروهی‌ست که در جدول، <b>بالاتر</b> آمده باشد.\n",
    "</font>\n",
    "</p>"
   ]
  },
  {
   "cell_type": "code",
   "execution_count": null,
   "id": "1738e81a",
   "metadata": {},
   "outputs": [],
   "source": [
    "df_customer_segments['Segment'] = None # To-Do\n",
    "df_customer_segments.head()"
   ]
  },
  {
   "attachments": {},
   "cell_type": "markdown",
   "id": "121d3f7d",
   "metadata": {},
   "source": [
    "<h2 align=right style=\"line-height:200%;font-family:vazir;color:#0099cc\">\n",
    "<font face=\"vazirmatn\" color=\"#0099cc\">\n",
    "<b>سلول جواب‌ساز</b>\n",
    "</font>\n",
    "</h2>\n",
    "\n",
    "\n",
    "<p dir=rtl style=\"direction: rtl; text-align: justify; line-height:200%; font-family:vazir; font-size:medium\">\n",
    "<font face=\"vazirmatn\" size=3>\n",
    "    برای ساخته‌شدن فایل <code>result.zip</code> سلول زیر را اجرا کنید. توجه داشته باشید که پیش از اجرای سلول زیر تغییرات اعمال شده در نت‌بوک را ذخیره کرده باشید (<code>ctrl+s</code>) تا در صورت نیاز به پشتیبانی امکان بررسی کد شما وجود داشته باشد.\n",
    "</font>\n",
    "</p>"
   ]
  },
  {
   "cell_type": "code",
   "execution_count": null,
   "id": "92401efc",
   "metadata": {},
   "outputs": [],
   "source": [
    "import zipfile\n",
    "import joblib\n",
    "\n",
    "df_customer_segments.to_csv('df_customer_segments.csv', index=False)\n",
    "joblib.dump(last_day, 'last_day')\n",
    "\n",
    "def compress(file_names):\n",
    "    print(\"File Paths:\")\n",
    "    print(file_names)\n",
    "    compression = zipfile.ZIP_DEFLATED\n",
    "    with zipfile.ZipFile(\"result.zip\", mode=\"w\") as zf:\n",
    "        for file_name in file_names:\n",
    "            zf.write('./' + file_name, file_name, compress_type=compression)\n",
    "\n",
    "file_names = [\"last_day\", \"df_customer_segments.csv\", \"final_project_4_rfm.ipynb\"]\n",
    "compress(file_names)"
   ]
  }
 ],
 "metadata": {
  "kernelspec": {
   "display_name": "Python 3",
   "language": "python",
   "name": "python3"
  },
  "language_info": {
   "codemirror_mode": {
    "name": "ipython",
    "version": 3
   },
   "file_extension": ".py",
   "mimetype": "text/x-python",
   "name": "python",
   "nbconvert_exporter": "python",
   "pygments_lexer": "ipython3",
   "version": "3.8.0"
  },
  "vscode": {
   "interpreter": {
    "hash": "44e7e1b8fa2096bd5707ed7fd18b1724a2db25f4c565a7673f8b6e7bfc49d25d"
   }
  }
 },
 "nbformat": 4,
 "nbformat_minor": 5
}

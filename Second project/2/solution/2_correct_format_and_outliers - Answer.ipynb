{
 "cells": [
  {
   "cell_type": "markdown",
   "metadata": {},
   "source": [
    "<h1 align=center style=\"line-height:200%;font-family:vazir;color:#0099cc\">\n",
    "<font face=\"vazirmatn\" color=\"#0099cc\">\n",
    "فرمت مناسب و داده‌های پرت\n",
    "</font>\n",
    "</h1>"
   ]
  },
  {
   "attachments": {},
   "cell_type": "markdown",
   "metadata": {
    "id": "150SzN6M6Qro"
   },
   "source": [
    "<p dir=rtl style=\"direction: rtl;text-align: justify;line-height:200%;font-family:vazir;font-size:medium\">\n",
    "<font face=\"vazirmatn\" size=3>\n",
    "در این بخش داده‌های عددی و غیرعددی مجموعه‌داده را به فرمت مناسب تبدیل می‌کنیم تا در انجام تحلیل‌ها با چالشی مواجه نشویم. همچنین داده‌های پرت که شامل خانه‌های بسیار گران یا بسیار ارزان هستند و به‌ندرت دیده می‌شوند را حذف خواهیم کرد.\n",
    "</font>\n",
    "</p>"
   ]
  },
  {
   "attachments": {},
   "cell_type": "markdown",
   "metadata": {},
   "source": [
    "<h2 align=right style=\"line-height:200%;font-family:vazir;color:#0099cc\">\n",
    "<font face=\"vazirmatn\" color=\"#0099cc\">\n",
    "مجموعه‌داده\n",
    "</font>\n",
    "</h2>\n",
    "\n",
    "<p dir=rtl style=\"direction: rtl;text-align: justify;line-height:200%;font-family:vazir;font-size:medium\">\n",
    "<font face=\"vazirmatn\" size=3>\n",
    "ابتدا فایل <code>housing_no_missing.csv</code> را که در گام پیشین پروژه به‌دست آمد به‌شکل یک دیتافریم می‌خوانیم.\n",
    "</font>\n",
    "</p>"
   ]
  },
  {
   "cell_type": "code",
   "execution_count": 1,
   "metadata": {
    "id": "eBbDITFo3y7t"
   },
   "outputs": [],
   "source": [
    "import pandas as pd\n",
    "\n",
    "housing_no_missing = pd.read_csv('housing_no_missing.csv', encoding='gbk')"
   ]
  },
  {
   "attachments": {},
   "cell_type": "markdown",
   "metadata": {},
   "source": [
    "<h1 align=right style=\"line-height:200%;font-family:vazir;color:#0099cc\">\n",
    "<font face=\"vazirmatn\" color=\"#0099cc\">\n",
    "فرمت مناسب برای مقادیر دسته‌ای\n",
    "</font>\n",
    "</h1>"
   ]
  },
  {
   "attachments": {},
   "cell_type": "markdown",
   "metadata": {
    "id": "A4pYpT6W7dIi"
   },
   "source": [
    "<p dir=rtl style=\"direction: rtl;text-align: justify;line-height:200%;font-family:vazir;font-size:medium\">\n",
    "<font face=\"vazirmatn\" size=3>\n",
    "تعدادی از ستون‌ها دارای مقادیر دسته‌ای (categorical) هستند. ستون‌هایی مانند آسانسور، جنس ساختمان، شرایط بازسازی و غیره. برای نمایش بهتر داده‌ها این اعداد را به معادل رشته‌ای آن‌ها‌ تبدیل می‌کنیم.\n",
    "</font>\n",
    "</p>\n",
    "\n"
   ]
  },
  {
   "attachments": {},
   "cell_type": "markdown",
   "metadata": {
    "id": "R3GZlc608SVn"
   },
   "source": [
    "<h2 align=right style=\"line-height:200%;font-family:vazir;color:#0099cc\">\n",
    "<font face=\"vazirmatn\" color=\"#0099cc\">\n",
    "قسمت اول\n",
    "</font>\n",
    "</h2>\n",
    "\n",
    "<p dir=rtl style=\"direction: rtl;text-align: justify;line-height:200%;font-family:vazir;font-size:medium\">\n",
    "<font face=\"vazirmatn\" size=3>\n",
    "مقادیر ستون‌های <code>elevator</code>، <code>buildingStructure</code>، <code>renovationCondition</code> و <code>subway</code> را مطابق مقادیر زیر تغییر دهید و در یک دیتافریم جدید به نام <code>housing_categorical</code> ذخیره کنید.\n",
    "</font>\n",
    "</p>\n",
    " \n",
    "<center>\n",
    "<table>\n",
    "<tr>\n",
    "    <td><b><code>elevator</code></b></td>    \n",
    "</tr>    \n",
    "<tr>    \n",
    "<td>1</td> <td>'has elevator'</td>\n",
    "</tr>\n",
    "<tr>     \n",
    "<td>0</td> <td>'no elevator'</td>    \n",
    "</tr>\n",
    "</table>   \n",
    "\n",
    "<br>       \n",
    "\n",
    "<table>\n",
    "<tr>\n",
    "    <td><b><code>subway</code></b></td>    \n",
    "</tr>        \n",
    "<tr>    \n",
    "<td>1</td> <td>'has subway'</td>\n",
    "</tr>\n",
    "<tr>     \n",
    "<td>0</td> <td>'no subway'</td>    \n",
    "</tr>        \n",
    "</table>   \n",
    "<br>        \n",
    "\n",
    "\n",
    "<table>\n",
    "<tr>\n",
    "<td><b><code>buildingStructure</code></b></td>    \n",
    "</tr>     \n",
    "<tr>    \n",
    "<td>1</td> <td>'unknown'</td>\n",
    "</tr>\n",
    "<tr>     \n",
    "<td>2</td> <td>'mixed'</td>    \n",
    "</tr>\n",
    "            \n",
    "<tr>     \n",
    "<td>3</td> <td>'brick and wood' </td>    \n",
    "</tr>\n",
    "            \n",
    "<tr>     \n",
    "<td>4</td> <td>'concrete'</td>    \n",
    "</tr>\n",
    "            \n",
    "<tr>     \n",
    "<td>5</td> <td>'steel'</td>    \n",
    "</tr>\n",
    "            \n",
    "<tr>     \n",
    "<td>6</td> <td>'steel-concrete composite'</td>    \n",
    "</tr>            \n",
    "</table> \n",
    "<br>\n",
    "        \n",
    "\n",
    "<table>\n",
    "<tr>\n",
    "<td><b><code>renovationCondition</code></b></td>    \n",
    "</tr>      \n",
    "<tr>    \n",
    "<td>1</td> <td>'other'</td>\n",
    "</tr>\n",
    "<tr>     \n",
    "<td>2</td> <td>'rough'</td>    \n",
    "</tr>\n",
    "            \n",
    "<tr>     \n",
    "<td>3</td> <td>'Simplicity' </td>    \n",
    "</tr>\n",
    "            \n",
    "<tr>     \n",
    "<td>4</td> <td>'hardcover'</td>    \n",
    "</tr>\n",
    "                 \n",
    "</table>\n",
    "\n",
    "</center>"
   ]
  },
  {
   "cell_type": "code",
   "execution_count": 2,
   "metadata": {
    "id": "RGrc_FHi66ih"
   },
   "outputs": [
    {
     "data": {
      "text/html": [
       "<div>\n",
       "<style scoped>\n",
       "    .dataframe tbody tr th:only-of-type {\n",
       "        vertical-align: middle;\n",
       "    }\n",
       "\n",
       "    .dataframe tbody tr th {\n",
       "        vertical-align: top;\n",
       "    }\n",
       "\n",
       "    .dataframe thead th {\n",
       "        text-align: right;\n",
       "    }\n",
       "</style>\n",
       "<table border=\"1\" class=\"dataframe\">\n",
       "  <thead>\n",
       "    <tr style=\"text-align: right;\">\n",
       "      <th></th>\n",
       "      <th>Lng</th>\n",
       "      <th>Lat</th>\n",
       "      <th>tradeTime</th>\n",
       "      <th>DOM</th>\n",
       "      <th>totalPrice</th>\n",
       "      <th>square</th>\n",
       "      <th>livingRoom</th>\n",
       "      <th>drawingRoom</th>\n",
       "      <th>kitchen</th>\n",
       "      <th>bathRoom</th>\n",
       "      <th>floor</th>\n",
       "      <th>constructionTime</th>\n",
       "      <th>renovationCondition</th>\n",
       "      <th>buildingStructure</th>\n",
       "      <th>ladderRatio</th>\n",
       "      <th>elevator</th>\n",
       "      <th>subway</th>\n",
       "      <th>district</th>\n",
       "    </tr>\n",
       "  </thead>\n",
       "  <tbody>\n",
       "    <tr>\n",
       "      <th>0</th>\n",
       "      <td>116.475489</td>\n",
       "      <td>40.019520</td>\n",
       "      <td>2016-08-09</td>\n",
       "      <td>1464.0</td>\n",
       "      <td>415.0</td>\n",
       "      <td>131.00</td>\n",
       "      <td>2</td>\n",
       "      <td>1</td>\n",
       "      <td>1</td>\n",
       "      <td>1</td>\n",
       "      <td>高 26</td>\n",
       "      <td>2005</td>\n",
       "      <td>Simplicity</td>\n",
       "      <td>steel-concrete composite</td>\n",
       "      <td>0.217</td>\n",
       "      <td>has elevator</td>\n",
       "      <td>has subway</td>\n",
       "      <td>7</td>\n",
       "    </tr>\n",
       "    <tr>\n",
       "      <th>1</th>\n",
       "      <td>116.453917</td>\n",
       "      <td>39.881534</td>\n",
       "      <td>2016-07-28</td>\n",
       "      <td>903.0</td>\n",
       "      <td>575.0</td>\n",
       "      <td>132.38</td>\n",
       "      <td>2</td>\n",
       "      <td>2</td>\n",
       "      <td>1</td>\n",
       "      <td>2</td>\n",
       "      <td>高 22</td>\n",
       "      <td>2004</td>\n",
       "      <td>hardcover</td>\n",
       "      <td>steel-concrete composite</td>\n",
       "      <td>0.667</td>\n",
       "      <td>has elevator</td>\n",
       "      <td>no subway</td>\n",
       "      <td>7</td>\n",
       "    </tr>\n",
       "    <tr>\n",
       "      <th>2</th>\n",
       "      <td>116.561978</td>\n",
       "      <td>39.877145</td>\n",
       "      <td>2016-12-11</td>\n",
       "      <td>1271.0</td>\n",
       "      <td>1030.0</td>\n",
       "      <td>198.00</td>\n",
       "      <td>3</td>\n",
       "      <td>2</td>\n",
       "      <td>1</td>\n",
       "      <td>3</td>\n",
       "      <td>中 4</td>\n",
       "      <td>2005</td>\n",
       "      <td>Simplicity</td>\n",
       "      <td>steel-concrete composite</td>\n",
       "      <td>0.500</td>\n",
       "      <td>has elevator</td>\n",
       "      <td>no subway</td>\n",
       "      <td>7</td>\n",
       "    </tr>\n",
       "    <tr>\n",
       "      <th>3</th>\n",
       "      <td>116.438010</td>\n",
       "      <td>40.076114</td>\n",
       "      <td>2016-09-30</td>\n",
       "      <td>965.0</td>\n",
       "      <td>297.5</td>\n",
       "      <td>134.00</td>\n",
       "      <td>3</td>\n",
       "      <td>1</td>\n",
       "      <td>1</td>\n",
       "      <td>1</td>\n",
       "      <td>底 21</td>\n",
       "      <td>2008</td>\n",
       "      <td>other</td>\n",
       "      <td>steel-concrete composite</td>\n",
       "      <td>0.273</td>\n",
       "      <td>has elevator</td>\n",
       "      <td>no subway</td>\n",
       "      <td>6</td>\n",
       "    </tr>\n",
       "    <tr>\n",
       "      <th>4</th>\n",
       "      <td>116.428392</td>\n",
       "      <td>39.886229</td>\n",
       "      <td>2016-08-28</td>\n",
       "      <td>927.0</td>\n",
       "      <td>392.0</td>\n",
       "      <td>81.00</td>\n",
       "      <td>2</td>\n",
       "      <td>1</td>\n",
       "      <td>1</td>\n",
       "      <td>1</td>\n",
       "      <td>中 6</td>\n",
       "      <td>1960</td>\n",
       "      <td>rough</td>\n",
       "      <td>mixed</td>\n",
       "      <td>0.333</td>\n",
       "      <td>no elevator</td>\n",
       "      <td>has subway</td>\n",
       "      <td>1</td>\n",
       "    </tr>\n",
       "  </tbody>\n",
       "</table>\n",
       "</div>"
      ],
      "text/plain": [
       "          Lng        Lat   tradeTime     DOM  totalPrice  square  livingRoom  \\\n",
       "0  116.475489  40.019520  2016-08-09  1464.0       415.0  131.00           2   \n",
       "1  116.453917  39.881534  2016-07-28   903.0       575.0  132.38           2   \n",
       "2  116.561978  39.877145  2016-12-11  1271.0      1030.0  198.00           3   \n",
       "3  116.438010  40.076114  2016-09-30   965.0       297.5  134.00           3   \n",
       "4  116.428392  39.886229  2016-08-28   927.0       392.0   81.00           2   \n",
       "\n",
       "   drawingRoom  kitchen  bathRoom floor constructionTime renovationCondition  \\\n",
       "0            1        1         1  高 26             2005          Simplicity   \n",
       "1            2        1         2  高 22             2004           hardcover   \n",
       "2            2        1         3   中 4             2005          Simplicity   \n",
       "3            1        1         1  底 21             2008               other   \n",
       "4            1        1         1   中 6             1960               rough   \n",
       "\n",
       "          buildingStructure  ladderRatio      elevator      subway  district  \n",
       "0  steel-concrete composite        0.217  has elevator  has subway         7  \n",
       "1  steel-concrete composite        0.667  has elevator   no subway         7  \n",
       "2  steel-concrete composite        0.500  has elevator   no subway         7  \n",
       "3  steel-concrete composite        0.273  has elevator   no subway         6  \n",
       "4                     mixed        0.333   no elevator  has subway         1  "
      ]
     },
     "execution_count": 2,
     "metadata": {},
     "output_type": "execute_result"
    }
   ],
   "source": [
    "housing_categorical = housing_no_missing.copy()\n",
    "\n",
    "housing_categorical[\"elevator\"] = housing_categorical[\"elevator\"].map({1: \"has elevator\",\n",
    "                                                                       0:\"no elevator\"})\n",
    "\n",
    "housing_categorical[\"subway\"] = housing_categorical[\"subway\"].map({1: \"has subway\",\n",
    "                                                                   0:\"no subway\"})\n",
    "\n",
    "housing_categorical[\"buildingStructure\"] = housing_categorical[\"buildingStructure\"].map({1: \"unknown\",\n",
    "                                                                                         2: \"mixed\",\n",
    "                                                                                         3: \"brick and wood\",\n",
    "                                                                                         4:\"concrete\",\n",
    "                                                                                         5:\"steel\",\n",
    "                                                                                         6:\"steel-concrete composite\"})\n",
    "\n",
    "housing_categorical[\"renovationCondition\"] = housing_categorical[\"renovationCondition\"].map({1: \"other\",\n",
    "                                                                                             2: \"rough\",\n",
    "                                                                                             3: \"Simplicity\",\n",
    "                                                                                             4:\"hardcover\"})\n",
    "\n",
    "housing_categorical.head()"
   ]
  },
  {
   "cell_type": "markdown",
   "metadata": {
    "id": "YYl2ZGTlG_7j"
   },
   "source": [
    "<p dir=rtl style=\"direction: rtl;text-align: right;line-height:200%;font-family:vazir;font-size:medium\">\n",
    "<font face=\"vazirmatn\" size=3>\n",
    "بیایید بار دیگر نگاهی به نوع ستون‌ها بیندازیم:\n",
    "</font>\n",
    "</p>"
   ]
  },
  {
   "cell_type": "code",
   "execution_count": 3,
   "metadata": {
    "colab": {
     "base_uri": "https://localhost:8080/"
    },
    "id": "AgS2duUjHCAt",
    "outputId": "566374ba-7921-46ff-da6e-87361b0c3cee"
   },
   "outputs": [
    {
     "name": "stdout",
     "output_type": "stream",
     "text": [
      "<class 'pandas.core.frame.DataFrame'>\n",
      "RangeIndex: 318819 entries, 0 to 318818\n",
      "Data columns (total 18 columns):\n",
      " #   Column               Non-Null Count   Dtype  \n",
      "---  ------               --------------   -----  \n",
      " 0   Lng                  318819 non-null  float64\n",
      " 1   Lat                  318819 non-null  float64\n",
      " 2   tradeTime            318819 non-null  object \n",
      " 3   DOM                  318819 non-null  float64\n",
      " 4   totalPrice           318819 non-null  float64\n",
      " 5   square               318819 non-null  float64\n",
      " 6   livingRoom           318819 non-null  int64  \n",
      " 7   drawingRoom          318819 non-null  int64  \n",
      " 8   kitchen              318819 non-null  int64  \n",
      " 9   bathRoom             318819 non-null  int64  \n",
      " 10  floor                318819 non-null  object \n",
      " 11  constructionTime     318819 non-null  object \n",
      " 12  renovationCondition  318819 non-null  object \n",
      " 13  buildingStructure    318819 non-null  object \n",
      " 14  ladderRatio          318819 non-null  float64\n",
      " 15  elevator             318819 non-null  object \n",
      " 16  subway               318819 non-null  object \n",
      " 17  district             318819 non-null  int64  \n",
      "dtypes: float64(6), int64(5), object(7)\n",
      "memory usage: 43.8+ MB\n"
     ]
    }
   ],
   "source": [
    "housing_categorical.info()"
   ]
  },
  {
   "attachments": {},
   "cell_type": "markdown",
   "metadata": {},
   "source": [
    "<h1 align=right style=\"line-height:200%;font-family:vazir;color:#0099cc\">\n",
    "<font face=\"vazirmatn\" color=\"#0099cc\">\n",
    "فرمت مناسب برای مقادیر عددی\n",
    "</font>\n",
    "</h1>"
   ]
  },
  {
   "attachments": {},
   "cell_type": "markdown",
   "metadata": {
    "id": "KSXUMjqaHETG"
   },
   "source": [
    "\n",
    "<p dir=rtl style=\"direction: rtl;text-align: justify;line-height:200%;font-family:vazir;font-size:medium\">\n",
    "<font face=\"vazirmatn\" size=3>\n",
    "ستون‌هایی که مقدار رشته‌ای دارند، از نوع <code>Object</code> هستند. اگر بیشتر دقت کنید، می‌بینید که بعضی از ستون‌های عددی (مانند سال ساخت خانه و ارتفاع خانه) هم به شکل <code>object</code> ذخیره شده‌اند. در قدم بعدی این ستون‌ها را به مقدار عددی تبدیل می‌کنیم.\n",
    "<br>\n",
    "بهتر است ابتدا با متد  <code>unique</code>، مقادیر یکتای این ستون‌ها را ببینیم:\n",
    "</font>\n",
    "</p>\n"
   ]
  },
  {
   "cell_type": "code",
   "execution_count": 4,
   "metadata": {
    "colab": {
     "base_uri": "https://localhost:8080/"
    },
    "id": "8b_qw2h8HErS",
    "outputId": "ac46b9d7-2801-4870-9c91-799abb826f04"
   },
   "outputs": [
    {
     "name": "stdout",
     "output_type": "stream",
     "text": [
      "constructionTime :  ['2005' '2004' '2008' '1960' '1997' '2009' '2006' '1991' '2001' '1990'\n",
      " '2011' '2000' '1998' '2010' '1996' '1993' '2002' '未知' '2012' '1989'\n",
      " '2003' '2007' '1994' '1984' '1992' '2014' '1985' '2013' '1999' '1979'\n",
      " '1981' '1976' '1982' '1975' '1983' '1986' '1995' '1965' '1988' '1987'\n",
      " '2015' '1955' '1980' '1978' '1958' '1970' '1956' '1977' '1964' '1963'\n",
      " '1967' '2016' '1974' '1973' '1959' '1954' '1962' '1966' '1957' '1944'\n",
      " '1972' '1971' '1953' '1968' '1961' '1950' '1952' '1933' '1969' '1906'\n",
      " '1934' '1914']\n",
      "floor :  ['高 26' '高 22' '中 4' '底 21' '中 6' '中 8' '高 6' '高 10' '中 23' '底 11' '底 3'\n",
      " '高 24' '低 23' '中 19' '高 18' '低 25' '中 12' '中 14' '中 30' '中 27' '中 5'\n",
      " '低 18' '底 28' '中 11' '低 9' '顶 7' '顶 27' '低 6' '中 17' '顶 6' '中 24' '中 15'\n",
      " '底 5' '中 29' '顶 19' '顶 5' '中 9' '低 22' '顶 18' '低 16' '高 13' '高 9' '高 17'\n",
      " '底 6' '中 28' '低 26' '底 15' '高 16' '底 2' '低 7' '中 13' '低 33' '底 14' '高 15'\n",
      " '底 4' '顶 11' '中 32' '顶 16' '底 18' '顶 17' '低 14' '低 10' '底 20' '高 12'\n",
      " '低 31' '低 30' '低 19' '低 12' '中 10' '中 16' '顶 20' '底 19' '中 31' '低 13'\n",
      " '底 10' '高 25' '中 21' '中 20' '高 20' '低 21' '低 24' '顶 4' '高 21' '高 7'\n",
      " '中 22' '底 1' '中 7' '底 8' '顶 15' '中 18' '高 28' '顶 14' '顶 13' '低 20' '底 26'\n",
      " '低 17' '顶 24' '底 23' '顶 3' '顶 21' '底 24' '高 30' '高 11' '底 25' '高 27'\n",
      " '底 9' '低 11' '低 28' '低 15' '顶 26' '低 34' '顶 12' '中 25' '高 8' '底 17'\n",
      " '高 32' '高 19' '底 7' '顶 28' '顶 9' '高 31' '中 26' '顶 2' '顶 8' '底 32' '中 42'\n",
      " '底 30' '低 32' '底 16' '低 3' '底 22' '高 14' '高 23' '底 27' '底 13' '低 27'\n",
      " '顶 23' '低 29' '顶 22' '高 29' '中 34' '顶 25' '高 34' '顶 10' '低 37' '底 12'\n",
      " '未知 6' '顶 32' '低 42' '顶 30' '底 33' '高 42' '低 8' '高 33' '中 33' '顶 29'\n",
      " '底 29' '未知 15' '高 37' '低 36' '低 35' '顶 34' '高 36' '中 37' '中 35' '底 31'\n",
      " '未知 12' '顶 31' '低 63' '未知 21' '底 34' '中 57' '顶 33' '未知 11' '未知 7' '未知 10'\n",
      " '未知 18' '未知 8' '未知 14' '未知 4' '未知 5' '未知 3' '未知 27' '未知 25' '未知 20'\n",
      " '未知 26' '未知 9' '未知 22' '未知 23' '未知 16' '未知 19' '未知 28' '中 36' '未知 17'\n",
      " '未知 13' '低 2' '未知 29' '未知 24' '未知 30' '未知 31' '低 5']\n"
     ]
    }
   ],
   "source": [
    "print('constructionTime : ',housing_categorical.constructionTime.unique())\n",
    "print('floor : ',housing_categorical.floor.unique())"
   ]
  },
  {
   "attachments": {},
   "cell_type": "markdown",
   "metadata": {
    "id": "KqOAg1EsgeUL"
   },
   "source": [
    "<h2 align=right style=\"line-height:200%;font-family:vazir;color:#0099cc\">\n",
    "<font face=\"vazirmatn\" color=\"#0099cc\">\n",
    "قسمت دوم\n",
    "</font>\n",
    "</h2>\n",
    "<p dir=rtl style=\"direction: rtl;text-align: justify;line-height:200%;font-family:vazir;font-size:medium\">\n",
    "<font face=\"vazirmatn\" size=3>\n",
    "نگاهی به مقادیر یکتای ستون <code>constructionTime</code> بیندازید. برای بعضی از خانه‌ها یک عبارت چینی قرار داده‌ شده که به معنی نامشخص (unknown) می‌باشد. تعداد چنین خانه‌هایی کم است، پس می‌توانیم خانه‌هایی که سال ساخت آن‌ها نامشخص است را حذف کنیم (البته شاید بهتر باشد که به جای حذف این خانه‌ها، میانگین سال ساخت یا مد سال ساخت را قرار داد. انتخاب رویکرد مناسب برای مقادیر گم‌شده یا نامشخص به ماهیت مسئله و نیازهای ما بستگی دارد).\n",
    "<br>\n",
    "در این قسمت خانه‌هایی که سال ساخت آن‌ها مشخص نیست را حذف کرده و پس از آن نوع ستون <code>constructionTime</code> را به <code>int</code> تغییر دهید. نام دیتا‌فریم جدید را برابر <code>housing_construction</code> قرار دهید.\n",
    "</font>\n",
    "</p>"
   ]
  },
  {
   "cell_type": "code",
   "execution_count": 5,
   "metadata": {
    "colab": {
     "base_uri": "https://localhost:8080/"
    },
    "id": "WONPluZdgetg",
    "outputId": "b7906b79-bfe3-494a-8566-11225dabaf22"
   },
   "outputs": [
    {
     "data": {
      "text/html": [
       "<div>\n",
       "<style scoped>\n",
       "    .dataframe tbody tr th:only-of-type {\n",
       "        vertical-align: middle;\n",
       "    }\n",
       "\n",
       "    .dataframe tbody tr th {\n",
       "        vertical-align: top;\n",
       "    }\n",
       "\n",
       "    .dataframe thead th {\n",
       "        text-align: right;\n",
       "    }\n",
       "</style>\n",
       "<table border=\"1\" class=\"dataframe\">\n",
       "  <thead>\n",
       "    <tr style=\"text-align: right;\">\n",
       "      <th></th>\n",
       "      <th>Lng</th>\n",
       "      <th>Lat</th>\n",
       "      <th>tradeTime</th>\n",
       "      <th>DOM</th>\n",
       "      <th>totalPrice</th>\n",
       "      <th>square</th>\n",
       "      <th>livingRoom</th>\n",
       "      <th>drawingRoom</th>\n",
       "      <th>kitchen</th>\n",
       "      <th>bathRoom</th>\n",
       "      <th>floor</th>\n",
       "      <th>constructionTime</th>\n",
       "      <th>renovationCondition</th>\n",
       "      <th>buildingStructure</th>\n",
       "      <th>ladderRatio</th>\n",
       "      <th>elevator</th>\n",
       "      <th>subway</th>\n",
       "      <th>district</th>\n",
       "    </tr>\n",
       "  </thead>\n",
       "  <tbody>\n",
       "    <tr>\n",
       "      <th>0</th>\n",
       "      <td>116.475489</td>\n",
       "      <td>40.019520</td>\n",
       "      <td>2016-08-09</td>\n",
       "      <td>1464.0</td>\n",
       "      <td>415.0</td>\n",
       "      <td>131.00</td>\n",
       "      <td>2</td>\n",
       "      <td>1</td>\n",
       "      <td>1</td>\n",
       "      <td>1</td>\n",
       "      <td>高 26</td>\n",
       "      <td>2005</td>\n",
       "      <td>Simplicity</td>\n",
       "      <td>steel-concrete composite</td>\n",
       "      <td>0.217</td>\n",
       "      <td>has elevator</td>\n",
       "      <td>has subway</td>\n",
       "      <td>7</td>\n",
       "    </tr>\n",
       "    <tr>\n",
       "      <th>1</th>\n",
       "      <td>116.453917</td>\n",
       "      <td>39.881534</td>\n",
       "      <td>2016-07-28</td>\n",
       "      <td>903.0</td>\n",
       "      <td>575.0</td>\n",
       "      <td>132.38</td>\n",
       "      <td>2</td>\n",
       "      <td>2</td>\n",
       "      <td>1</td>\n",
       "      <td>2</td>\n",
       "      <td>高 22</td>\n",
       "      <td>2004</td>\n",
       "      <td>hardcover</td>\n",
       "      <td>steel-concrete composite</td>\n",
       "      <td>0.667</td>\n",
       "      <td>has elevator</td>\n",
       "      <td>no subway</td>\n",
       "      <td>7</td>\n",
       "    </tr>\n",
       "    <tr>\n",
       "      <th>2</th>\n",
       "      <td>116.561978</td>\n",
       "      <td>39.877145</td>\n",
       "      <td>2016-12-11</td>\n",
       "      <td>1271.0</td>\n",
       "      <td>1030.0</td>\n",
       "      <td>198.00</td>\n",
       "      <td>3</td>\n",
       "      <td>2</td>\n",
       "      <td>1</td>\n",
       "      <td>3</td>\n",
       "      <td>中 4</td>\n",
       "      <td>2005</td>\n",
       "      <td>Simplicity</td>\n",
       "      <td>steel-concrete composite</td>\n",
       "      <td>0.500</td>\n",
       "      <td>has elevator</td>\n",
       "      <td>no subway</td>\n",
       "      <td>7</td>\n",
       "    </tr>\n",
       "    <tr>\n",
       "      <th>3</th>\n",
       "      <td>116.438010</td>\n",
       "      <td>40.076114</td>\n",
       "      <td>2016-09-30</td>\n",
       "      <td>965.0</td>\n",
       "      <td>297.5</td>\n",
       "      <td>134.00</td>\n",
       "      <td>3</td>\n",
       "      <td>1</td>\n",
       "      <td>1</td>\n",
       "      <td>1</td>\n",
       "      <td>底 21</td>\n",
       "      <td>2008</td>\n",
       "      <td>other</td>\n",
       "      <td>steel-concrete composite</td>\n",
       "      <td>0.273</td>\n",
       "      <td>has elevator</td>\n",
       "      <td>no subway</td>\n",
       "      <td>6</td>\n",
       "    </tr>\n",
       "    <tr>\n",
       "      <th>4</th>\n",
       "      <td>116.428392</td>\n",
       "      <td>39.886229</td>\n",
       "      <td>2016-08-28</td>\n",
       "      <td>927.0</td>\n",
       "      <td>392.0</td>\n",
       "      <td>81.00</td>\n",
       "      <td>2</td>\n",
       "      <td>1</td>\n",
       "      <td>1</td>\n",
       "      <td>1</td>\n",
       "      <td>中 6</td>\n",
       "      <td>1960</td>\n",
       "      <td>rough</td>\n",
       "      <td>mixed</td>\n",
       "      <td>0.333</td>\n",
       "      <td>no elevator</td>\n",
       "      <td>has subway</td>\n",
       "      <td>1</td>\n",
       "    </tr>\n",
       "  </tbody>\n",
       "</table>\n",
       "</div>"
      ],
      "text/plain": [
       "          Lng        Lat   tradeTime     DOM  totalPrice  square  livingRoom  \\\n",
       "0  116.475489  40.019520  2016-08-09  1464.0       415.0  131.00           2   \n",
       "1  116.453917  39.881534  2016-07-28   903.0       575.0  132.38           2   \n",
       "2  116.561978  39.877145  2016-12-11  1271.0      1030.0  198.00           3   \n",
       "3  116.438010  40.076114  2016-09-30   965.0       297.5  134.00           3   \n",
       "4  116.428392  39.886229  2016-08-28   927.0       392.0   81.00           2   \n",
       "\n",
       "   drawingRoom  kitchen  bathRoom floor  constructionTime renovationCondition  \\\n",
       "0            1        1         1  高 26              2005          Simplicity   \n",
       "1            2        1         2  高 22              2004           hardcover   \n",
       "2            2        1         3   中 4              2005          Simplicity   \n",
       "3            1        1         1  底 21              2008               other   \n",
       "4            1        1         1   中 6              1960               rough   \n",
       "\n",
       "          buildingStructure  ladderRatio      elevator      subway  district  \n",
       "0  steel-concrete composite        0.217  has elevator  has subway         7  \n",
       "1  steel-concrete composite        0.667  has elevator   no subway         7  \n",
       "2  steel-concrete composite        0.500  has elevator   no subway         7  \n",
       "3  steel-concrete composite        0.273  has elevator   no subway         6  \n",
       "4                     mixed        0.333   no elevator  has subway         1  "
      ]
     },
     "execution_count": 5,
     "metadata": {},
     "output_type": "execute_result"
    }
   ],
   "source": [
    "housing_construction = housing_categorical.copy()\n",
    "\n",
    "housing_construction = housing_construction[housing_construction.constructionTime != '未知']\n",
    "housing_construction.constructionTime = housing_construction.constructionTime.astype(int)\n",
    "\n",
    "housing_construction.head()"
   ]
  },
  {
   "attachments": {},
   "cell_type": "markdown",
   "metadata": {
    "id": "az5dhz-Hh-82"
   },
   "source": [
    "<h2 align=right style=\"line-height:200%;font-family:vazir;color:#0099cc\">\n",
    "<font face=\"vazirmatn\" color=\"#0099cc\">\n",
    "قسمت سوم\n",
    "</font>\n",
    "</h2>\n",
    "<p dir=rtl style=\"direction: rtl;text-align: justify;line-height:200%;font-family:vazir;font-size:medium\">\n",
    "<font face=\"vazirmatn\" size=3>\n",
    "حالا می‌رویم سراغ ستون <code>floor</code> که داستانش کمی متفاوت است. در خانه‌های این ستون ابتدا یک کلمه‌ی چینی و پس از آن یک عدد قرار گرفته است. عدد بعد از کاراکتر چینی ارتفاع خانه را نشان می‌دهد. پس از کمک گرفتن از مترجم گوگل، متوجه شدیم که آن کلمات، معادل بالا و پایین و متوسط هستند. می‌توان این ستون را به دو ستون متفاوت تبدیل کرد ولی ما اینجا عبارات چینی را دور می‌ریزیم و فقط اعداد را نگه می‌داریم.\n",
    "<br>\n",
    "ستون <code>floor</code> را طوری تغییر دهید که فقط اعداد آن‌ها باقی بماند و نوع داده‌های ستون <code>floor</code> را با استفاده از توابع پانداز به <code>int</code> تبدیل کنید. نام دیتافریم جدید را برابر <code>housing_floor</code> قرار دهید. \n",
    "</font>\n",
    "</p>\n"
   ]
  },
  {
   "cell_type": "code",
   "execution_count": 6,
   "metadata": {
    "colab": {
     "base_uri": "https://localhost:8080/"
    },
    "id": "2Ce-Zm1ViWkr",
    "outputId": "3f77e819-5131-4f2c-ef45-f63e6e86b543"
   },
   "outputs": [
    {
     "data": {
      "text/html": [
       "<div>\n",
       "<style scoped>\n",
       "    .dataframe tbody tr th:only-of-type {\n",
       "        vertical-align: middle;\n",
       "    }\n",
       "\n",
       "    .dataframe tbody tr th {\n",
       "        vertical-align: top;\n",
       "    }\n",
       "\n",
       "    .dataframe thead th {\n",
       "        text-align: right;\n",
       "    }\n",
       "</style>\n",
       "<table border=\"1\" class=\"dataframe\">\n",
       "  <thead>\n",
       "    <tr style=\"text-align: right;\">\n",
       "      <th></th>\n",
       "      <th>Lng</th>\n",
       "      <th>Lat</th>\n",
       "      <th>tradeTime</th>\n",
       "      <th>DOM</th>\n",
       "      <th>totalPrice</th>\n",
       "      <th>square</th>\n",
       "      <th>livingRoom</th>\n",
       "      <th>drawingRoom</th>\n",
       "      <th>kitchen</th>\n",
       "      <th>bathRoom</th>\n",
       "      <th>floor</th>\n",
       "      <th>constructionTime</th>\n",
       "      <th>renovationCondition</th>\n",
       "      <th>buildingStructure</th>\n",
       "      <th>ladderRatio</th>\n",
       "      <th>elevator</th>\n",
       "      <th>subway</th>\n",
       "      <th>district</th>\n",
       "    </tr>\n",
       "  </thead>\n",
       "  <tbody>\n",
       "    <tr>\n",
       "      <th>0</th>\n",
       "      <td>116.475489</td>\n",
       "      <td>40.019520</td>\n",
       "      <td>2016-08-09</td>\n",
       "      <td>1464.0</td>\n",
       "      <td>415.0</td>\n",
       "      <td>131.00</td>\n",
       "      <td>2</td>\n",
       "      <td>1</td>\n",
       "      <td>1</td>\n",
       "      <td>1</td>\n",
       "      <td>26</td>\n",
       "      <td>2005</td>\n",
       "      <td>Simplicity</td>\n",
       "      <td>steel-concrete composite</td>\n",
       "      <td>0.217</td>\n",
       "      <td>has elevator</td>\n",
       "      <td>has subway</td>\n",
       "      <td>7</td>\n",
       "    </tr>\n",
       "    <tr>\n",
       "      <th>1</th>\n",
       "      <td>116.453917</td>\n",
       "      <td>39.881534</td>\n",
       "      <td>2016-07-28</td>\n",
       "      <td>903.0</td>\n",
       "      <td>575.0</td>\n",
       "      <td>132.38</td>\n",
       "      <td>2</td>\n",
       "      <td>2</td>\n",
       "      <td>1</td>\n",
       "      <td>2</td>\n",
       "      <td>22</td>\n",
       "      <td>2004</td>\n",
       "      <td>hardcover</td>\n",
       "      <td>steel-concrete composite</td>\n",
       "      <td>0.667</td>\n",
       "      <td>has elevator</td>\n",
       "      <td>no subway</td>\n",
       "      <td>7</td>\n",
       "    </tr>\n",
       "    <tr>\n",
       "      <th>2</th>\n",
       "      <td>116.561978</td>\n",
       "      <td>39.877145</td>\n",
       "      <td>2016-12-11</td>\n",
       "      <td>1271.0</td>\n",
       "      <td>1030.0</td>\n",
       "      <td>198.00</td>\n",
       "      <td>3</td>\n",
       "      <td>2</td>\n",
       "      <td>1</td>\n",
       "      <td>3</td>\n",
       "      <td>4</td>\n",
       "      <td>2005</td>\n",
       "      <td>Simplicity</td>\n",
       "      <td>steel-concrete composite</td>\n",
       "      <td>0.500</td>\n",
       "      <td>has elevator</td>\n",
       "      <td>no subway</td>\n",
       "      <td>7</td>\n",
       "    </tr>\n",
       "    <tr>\n",
       "      <th>3</th>\n",
       "      <td>116.438010</td>\n",
       "      <td>40.076114</td>\n",
       "      <td>2016-09-30</td>\n",
       "      <td>965.0</td>\n",
       "      <td>297.5</td>\n",
       "      <td>134.00</td>\n",
       "      <td>3</td>\n",
       "      <td>1</td>\n",
       "      <td>1</td>\n",
       "      <td>1</td>\n",
       "      <td>21</td>\n",
       "      <td>2008</td>\n",
       "      <td>other</td>\n",
       "      <td>steel-concrete composite</td>\n",
       "      <td>0.273</td>\n",
       "      <td>has elevator</td>\n",
       "      <td>no subway</td>\n",
       "      <td>6</td>\n",
       "    </tr>\n",
       "    <tr>\n",
       "      <th>4</th>\n",
       "      <td>116.428392</td>\n",
       "      <td>39.886229</td>\n",
       "      <td>2016-08-28</td>\n",
       "      <td>927.0</td>\n",
       "      <td>392.0</td>\n",
       "      <td>81.00</td>\n",
       "      <td>2</td>\n",
       "      <td>1</td>\n",
       "      <td>1</td>\n",
       "      <td>1</td>\n",
       "      <td>6</td>\n",
       "      <td>1960</td>\n",
       "      <td>rough</td>\n",
       "      <td>mixed</td>\n",
       "      <td>0.333</td>\n",
       "      <td>no elevator</td>\n",
       "      <td>has subway</td>\n",
       "      <td>1</td>\n",
       "    </tr>\n",
       "  </tbody>\n",
       "</table>\n",
       "</div>"
      ],
      "text/plain": [
       "          Lng        Lat   tradeTime     DOM  totalPrice  square  livingRoom  \\\n",
       "0  116.475489  40.019520  2016-08-09  1464.0       415.0  131.00           2   \n",
       "1  116.453917  39.881534  2016-07-28   903.0       575.0  132.38           2   \n",
       "2  116.561978  39.877145  2016-12-11  1271.0      1030.0  198.00           3   \n",
       "3  116.438010  40.076114  2016-09-30   965.0       297.5  134.00           3   \n",
       "4  116.428392  39.886229  2016-08-28   927.0       392.0   81.00           2   \n",
       "\n",
       "   drawingRoom  kitchen  bathRoom  floor  constructionTime  \\\n",
       "0            1        1         1     26              2005   \n",
       "1            2        1         2     22              2004   \n",
       "2            2        1         3      4              2005   \n",
       "3            1        1         1     21              2008   \n",
       "4            1        1         1      6              1960   \n",
       "\n",
       "  renovationCondition         buildingStructure  ladderRatio      elevator  \\\n",
       "0          Simplicity  steel-concrete composite        0.217  has elevator   \n",
       "1           hardcover  steel-concrete composite        0.667  has elevator   \n",
       "2          Simplicity  steel-concrete composite        0.500  has elevator   \n",
       "3               other  steel-concrete composite        0.273  has elevator   \n",
       "4               rough                     mixed        0.333   no elevator   \n",
       "\n",
       "       subway  district  \n",
       "0  has subway         7  \n",
       "1   no subway         7  \n",
       "2   no subway         7  \n",
       "3   no subway         6  \n",
       "4  has subway         1  "
      ]
     },
     "execution_count": 6,
     "metadata": {},
     "output_type": "execute_result"
    }
   ],
   "source": [
    "housing_floor = housing_construction.copy()\n",
    "\n",
    "housing_floor['floor'] = housing_floor['floor'].str.split(\" \", n = 1, expand = True)[1]\n",
    "housing_floor.floor = housing_floor.floor.astype(int)\n",
    "\n",
    "housing_floor.head()"
   ]
  },
  {
   "cell_type": "markdown",
   "metadata": {
    "id": "fUXNTvWSip6H"
   },
   "source": [
    "<p dir=rtl style=\"direction: rtl;text-align: right;line-height:200%;font-family:vazir;font-size:medium\">\n",
    "<font face=\"vazirmatn\" size=3>\n",
    "اگر مراحل را به‌درستی انجام داده باشید، باید نوع ستون‌ها به شکل زیر باشد:\n",
    "</font>\n",
    "</p>\n"
   ]
  },
  {
   "cell_type": "code",
   "execution_count": 7,
   "metadata": {
    "colab": {
     "base_uri": "https://localhost:8080/"
    },
    "id": "-fBTeGg0iXtM",
    "outputId": "075d696d-e015-4a23-e083-f78172f5abe6"
   },
   "outputs": [
    {
     "name": "stdout",
     "output_type": "stream",
     "text": [
      "<class 'pandas.core.frame.DataFrame'>\n",
      "Index: 299536 entries, 0 to 318817\n",
      "Data columns (total 18 columns):\n",
      " #   Column               Non-Null Count   Dtype  \n",
      "---  ------               --------------   -----  \n",
      " 0   Lng                  299536 non-null  float64\n",
      " 1   Lat                  299536 non-null  float64\n",
      " 2   tradeTime            299536 non-null  object \n",
      " 3   DOM                  299536 non-null  float64\n",
      " 4   totalPrice           299536 non-null  float64\n",
      " 5   square               299536 non-null  float64\n",
      " 6   livingRoom           299536 non-null  int64  \n",
      " 7   drawingRoom          299536 non-null  int64  \n",
      " 8   kitchen              299536 non-null  int64  \n",
      " 9   bathRoom             299536 non-null  int64  \n",
      " 10  floor                299536 non-null  int64  \n",
      " 11  constructionTime     299536 non-null  int64  \n",
      " 12  renovationCondition  299536 non-null  object \n",
      " 13  buildingStructure    299536 non-null  object \n",
      " 14  ladderRatio          299536 non-null  float64\n",
      " 15  elevator             299536 non-null  object \n",
      " 16  subway               299536 non-null  object \n",
      " 17  district             299536 non-null  int64  \n",
      "dtypes: float64(6), int64(7), object(5)\n",
      "memory usage: 43.4+ MB\n"
     ]
    }
   ],
   "source": [
    "housing_floor.info()"
   ]
  },
  {
   "attachments": {},
   "cell_type": "markdown",
   "metadata": {
    "id": "eO4csz4Mi4A4"
   },
   "source": [
    "<h1 align=right style=\"line-height:200%;font-family:vazir;color:#0099cc\">\n",
    "<font face=\"vazirmatn\" color=\"#0099cc\">\n",
    "داده‌های پرت\n",
    "</font>\n",
    "</h1>"
   ]
  },
  {
   "attachments": {},
   "cell_type": "markdown",
   "metadata": {
    "id": "l6u5F2ISi_0k"
   },
   "source": [
    "<p dir=rtl style=\"direction: rtl;text-align: justify;line-height:200%;font-family:vazir;font-size:medium\">\n",
    "<font face=\"vazirmatn\" size=3>\n",
    "ممکن است خانه‌هایی بسیار بزرگ یا بسیار گران باشند یا برعکس، خانه‌‌هایی باشند که بیش از حد ارزان یا کوچک بوده و فاصله‌ی بسیاری با میانگین داشته‌ باشند. در بعضی امور تحلیل داده‌ای، داده‌ی پرت می‌تواند نتایج را به شکلی نامطلوب تغییر دهد. برای مثال، نمودار‌ها به شکلی نامفهوم در می‌آیند یا در کارهای یادگیری ماشین، این داده‌ها ممکن است الگوریتم را به اشتباه بیندازند. در این قسمت بعضی از خانه‌هایی که یک یا چند ویژگی پرت یا غیرمعمول دارند را حذف می‌کنیم.\n",
    "</font>\n",
    "</p>\n",
    "\n",
    "<p dir=rtl style=\"direction: rtl;text-align: justify;line-height:200%;font-family:vazir;font-size:medium\">\n",
    "<font face=\"vazirmatn\" size=3>\n",
    "یکی از بهترین روش‌های شناسایی و حذف داده‌های پرت، استفاده از چارک‌ها و نمودار جعبه‌ای می‌باشد. \n",
    "پس ابتدا نمودار جعبه‌ای ستون قیمت را رسم می‌کنیم.\n",
    "</font>\n",
    "</p>"
   ]
  },
  {
   "cell_type": "code",
   "execution_count": 8,
   "metadata": {
    "colab": {
     "base_uri": "https://localhost:8080/",
     "height": 283
    },
    "id": "1YKMMpuqi4U8",
    "outputId": "79a0a7e6-e6e0-49e6-d806-772e56d4e51b"
   },
   "outputs": [
    {
     "data": {
      "text/plain": [
       "<Axes: >"
      ]
     },
     "execution_count": 8,
     "metadata": {},
     "output_type": "execute_result"
    },
    {
     "data": {
      "image/png": "[encoded data removed]",
      "text/plain": [
       "<Figure size 640x480 with 1 Axes>"
      ]
     },
     "metadata": {},
     "output_type": "display_data"
    }
   ],
   "source": [
    "housing_floor.totalPrice.plot(kind = 'box')"
   ]
  },
  {
   "attachments": {},
   "cell_type": "markdown",
   "metadata": {
    "id": "yVO4Vwd2jMhL"
   },
   "source": [
    "<p dir=rtl style=\"direction: rtl;text-align: justify;line-height:200%;font-family:vazir;font-size:medium\">\n",
    "<font face=\"vazirmatn\" size=3>\n",
    "بعضی از داده‌ها آن‌قدر پرت هستند که نمودار جعبه‌ای از حالت جعبه خارج شده است! نقاطی که در بالای نمودار هستند، داده‌های بسیار پرت می‌باشند.\n",
    "<br>\n",
    "با موضوع حذف داده‌های پرت در درسنامه‌ی «حذف داده‌ها»  آشنا شدید. برای حذف مقادیر پرت به‌کمک این تکنیک، از چارک اول و سوم برای انتخاب ناحیه‌ی مناسب استفاده می‌کنیم.  این ناحیه که <code>IQR</code> نام دارد، اختلاف چارک اول و سوم می‌باشد. سپس عددی در <code>IQR</code> ضرب می‌شود و مقادیری که کمتر یا بیشتر از این ناحیه جدید هستند، حذف می‌شوند. معمولاً این فاکتور (عددی که در <code>IQR</code> ضرب می‌شود) را برابر ۱.۵ در نظر می‌گیرند و از فاکتور ۳ برای شناسایی داده‌های خیلی پرت استفاده می‌شود.در ادامه از فاکتور ۱.۵ استفاده خواهیم کرد.\n",
    "</font>\n",
    "</p>\n"
   ]
  },
  {
   "attachments": {},
   "cell_type": "markdown",
   "metadata": {
    "id": "uFuzytV3kgb5"
   },
   "source": [
    "<h2 align=right style=\"line-height:200%;font-family:vazir;color:#0099cc\">\n",
    "<font face=\"vazirmatn\" color=\"#0099cc\">\n",
    "قسمت چهارم\n",
    "</font>\n",
    "</h2>\n",
    "<p dir=rtl style=\"direction: rtl;text-align: justify;line-height:200%;font-family:vazir;font-size:medium\">\n",
    "<font face=\"vazirmatn\" size=3>\n",
    "خانه‌هایی که قیمت کلی آنها در محدوده‌ی ۱.۵ برابری فاصله‌ی میان‌چارکی قرار نمی‌گیرد را حذف کنید و حاصل کار (داده‌های باقیمانده) را در دیتافریم <code>housing_no_outlier</code> قرار دهید. اگر مراحل را درست انجام داده باشید باید ۱۴۴۹۶ خانه حذف شوند.\n",
    "</font>\n",
    "</p>\n"
   ]
  },
  {
   "cell_type": "code",
   "execution_count": 9,
   "metadata": {
    "colab": {
     "base_uri": "https://localhost:8080/"
    },
    "id": "ni8v9UuukxrX",
    "outputId": "2bcad13f-e73f-4c1a-cf15-373f200461c7"
   },
   "outputs": [
    {
     "name": "stdout",
     "output_type": "stream",
     "text": [
      "Q1 :  205.0 \n",
      "Q3 :  428.0 \n",
      "IQR :  223.0\n",
      "Number of removed outliers :  14496\n"
     ]
    }
   ],
   "source": [
    "Q1 = housing_floor.totalPrice.quantile(0.25)\n",
    "Q3 = housing_floor.totalPrice.quantile(0.75)\n",
    "IQR = Q3 - Q1\n",
    "print('Q1 : ', Q1, '\\nQ3 : ', Q3, '\\nIQR : ', IQR)\n",
    "\n",
    "housing_no_outlier = housing_floor.drop(housing_floor[(housing_floor.totalPrice.values < Q1-1.5*IQR) | (housing_floor.totalPrice.values > Q3+1.5*IQR)].index)\n",
    "\n",
    "print('Number of removed outliers : ', housing_floor.shape[0] - housing_no_outlier.shape[0])"
   ]
  },
  {
   "cell_type": "markdown",
   "metadata": {
    "id": "oliAt4cBlGlX"
   },
   "source": [
    "<p dir=rtl style=\"direction: rtl;text-align: right;line-height:200%;font-family:vazir;font-size:medium\">\n",
    "<font face=\"vazirmatn\" size=3>\n",
    "نگاهی هم به نمودار میله‌ای ستون <code>totalPrice</code> بیندازیم. همان‌طور که می‌بینید، نمودار حالتی طبیعی‌تر به خود گرفته است:\n",
    "</font>\n",
    "</p>"
   ]
  },
  {
   "cell_type": "code",
   "execution_count": 10,
   "metadata": {
    "colab": {
     "base_uri": "https://localhost:8080/",
     "height": 287
    },
    "id": "UkGfgmuIlHj9",
    "outputId": "f840ba2c-4add-4fd1-a837-f4cbdb33022a"
   },
   "outputs": [
    {
     "data": {
      "text/plain": [
       "<Axes: >"
      ]
     },
     "execution_count": 10,
     "metadata": {},
     "output_type": "execute_result"
    },
    {
     "data": {
      "image/png": "[encoded data removed]",
      "text/plain": [
       "<Figure size 640x480 with 1 Axes>"
      ]
     },
     "metadata": {},
     "output_type": "display_data"
    }
   ],
   "source": [
    "housing_no_outlier.totalPrice.plot(kind = 'box')"
   ]
  },
  {
   "attachments": {},
   "cell_type": "markdown",
   "metadata": {},
   "source": [
    "<p dir=rtl style=\"direction: rtl;text-align: justify;line-height:200%;font-family:vazir;font-size:medium\">\n",
    "<font face=\"vazirmatn\" size=3>\n",
    "دیتافریم حاصل از این گام را برای استفاده در گام بعدی پروژه ذخیره می‌کنیم.\n",
    "</font>\n",
    "</p>"
   ]
  },
  {
   "cell_type": "code",
   "execution_count": 11,
   "metadata": {
    "id": "FDQIagcAlMuD"
   },
   "outputs": [],
   "source": [
    "housing_no_outlier.to_csv('housing_no_outlier.csv', encoding='gbk', index=False)"
   ]
  },
  {
   "attachments": {},
   "cell_type": "markdown",
   "metadata": {},
   "source": [
    "<h2 align=right style=\"line-height:200%;font-family:vazir;color:#0099cc\">\n",
    "<font face=\"vazirmatn\" color=\"#0099cc\">\n",
    "<b>سلول جواب‌ساز</b>\n",
    "</font>\n",
    "</h2>\n",
    "\n",
    "\n",
    "<p dir=rtl style=\"direction: rtl; text-align: justify; line-height:200%; font-family:vazir; font-size:medium\">\n",
    "<font face=\"vazirmatn\" size=3>\n",
    "    برای ساخته‌شدن فایل <code>result.zip</code> سلول زیر را اجرا کنید. توجه داشته باشید که پیش از اجرای سلول زیر تغییرات اعمال شده در نت‌بوک را ذخیره کرده باشید (<code>ctrl+s</code>) تا در صورت نیاز به پشتیبانی امکان بررسی کد شما وجود داشته باشد.\n",
    "</font>\n",
    "</p>"
   ]
  },
  {
   "cell_type": "code",
   "execution_count": 12,
   "metadata": {},
   "outputs": [
    {
     "name": "stdout",
     "output_type": "stream",
     "text": [
      "File Paths:\n",
      "['housing_categorical.csv', 'housing_construction.csv', 'housing_floor.csv', 'housing_no_outlier_100.csv', '2_correct_format_and_outliers.ipynb']\n"
     ]
    }
   ],
   "source": [
    "import zipfile\n",
    "import joblib\n",
    "\n",
    "housing_categorical.head(100).to_csv(\"housing_categorical.csv\") \n",
    "housing_construction.head(100).to_csv(\"housing_construction.csv\")\n",
    "housing_floor.head(100).to_csv(\"housing_floor.csv\")\n",
    "housing_no_outlier.head(100).to_csv(\"housing_no_outlier_100.csv\")\n",
    "\n",
    "def compress(file_names):\n",
    "    print(\"File Paths:\")\n",
    "    print(file_names)\n",
    "    compression = zipfile.ZIP_DEFLATED\n",
    "    with zipfile.ZipFile(\"result.zip\", mode=\"w\") as zf:\n",
    "        for file_name in file_names:\n",
    "            zf.write('./' + file_name, file_name, compress_type=compression)\n",
    "\n",
    "file_names = [\"housing_categorical.csv\", \"housing_construction.csv\", \"housing_floor.csv\",\n",
    "              \"housing_no_outlier_100.csv\", \"2_correct_format_and_outliers.ipynb\"]\n",
    "compress(file_names)"
   ]
  }
 ],
 "metadata": {
  "colab": {
   "collapsed_sections": [],
   "name": "step2.ipynb",
   "provenance": []
  },
  "kernelspec": {
   "display_name": "p13",
   "language": "python",
   "name": "python3"
  },
  "language_info": {
   "codemirror_mode": {
    "name": "ipython",
    "version": 3
   },
   "file_extension": ".py",
   "mimetype": "text/x-python",
   "name": "python",
   "nbconvert_exporter": "python",
   "pygments_lexer": "ipython3",
   "version": "3.13.0"
  }
 },
 "nbformat": 4,
 "nbformat_minor": 4
}
